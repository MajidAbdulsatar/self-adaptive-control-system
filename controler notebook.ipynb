{
 "cells": [
  {
   "cell_type": "markdown",
   "metadata": {},
   "source": [
    "### Show Deployed Images"
   ]
  },
  {
   "cell_type": "code",
   "execution_count": 3,
   "metadata": {},
   "outputs": [
    {
     "name": "stdout",
     "output_type": "stream",
     "text": [
      "NAME          READY   UP-TO-DATE   AVAILABLE   AGE\n",
      "main-mape     0/0     0            0           32d\n",
      "postgres-db   1/1     1            1           32d\n",
      "worker        0/0     0            0           5d16h\n"
     ]
    }
   ],
   "source": [
    "!kubectl get deployments -n development"
   ]
  },
  {
   "cell_type": "markdown",
   "metadata": {},
   "source": [
    "### Deploy Main"
   ]
  },
  {
   "cell_type": "code",
   "execution_count": 6,
   "metadata": {},
   "outputs": [
    {
     "name": "stdout",
     "output_type": "stream",
     "text": [
      "deployment.apps/main-mape scaled\n"
     ]
    }
   ],
   "source": [
    "!kubectl scale deployment main-mape --replicas=0 --namespace=development"
   ]
  },
  {
   "cell_type": "markdown",
   "metadata": {},
   "source": [
    "### Change Confing"
   ]
  },
  {
   "cell_type": "code",
   "execution_count": 31,
   "metadata": {},
   "outputs": [
    {
     "name": "stdout",
     "output_type": "stream",
     "text": [
      "curl: (7) Failed to connect to 127.0.0.1 port 8080 after 0 ms: Connection refused\n"
     ]
    }
   ],
   "source": [
    "!curl -X POST http://127.0.0.1:8080/update_config \\\n",
    "     -d '{\"expected_number_of_workers\": 5, \"namespace\": \"online-boutique\"}' \\\n",
    "     -H \"Content-Type: application/json\""
   ]
  },
  {
   "cell_type": "markdown",
   "metadata": {},
   "source": [
    "### Deploy Workers"
   ]
  },
  {
   "cell_type": "code",
   "execution_count": 7,
   "metadata": {},
   "outputs": [
    {
     "name": "stdout",
     "output_type": "stream",
     "text": [
      "deployment.apps/worker scaled\n"
     ]
    }
   ],
   "source": [
    "!kubectl scale deployment worker --replicas=0 --namespace=development"
   ]
  },
  {
   "cell_type": "markdown",
   "metadata": {},
   "source": [
    "### Show Results"
   ]
  },
  {
   "cell_type": "code",
   "execution_count": 34,
   "metadata": {},
   "outputs": [
    {
     "name": "stderr",
     "output_type": "stream",
     "text": [
      "/tmp/ipykernel_785/1597273258.py:19: UserWarning: pandas only supports SQLAlchemy connectable (engine/connection) or database string URI or sqlite3 DBAPI2 connection. Other DBAPI2 objects are not tested. Please consider using SQLAlchemy.\n",
      "  df = pd.read_sql(query, conn)\n"
     ]
    }
   ],
   "source": [
    "import pandas as pd\n",
    "import openpyxl\n",
    "from openpyxl.chart import LineChart, Reference\n",
    "from openpyxl.utils.dataframe import dataframe_to_rows\n",
    "import psycopg2\n",
    "\n",
    "def connect_to_db():\n",
    "    conn = psycopg2.connect(\n",
    "        dbname=\"mydatabase\",\n",
    "        user=\"user\",\n",
    "        password=\"password\",\n",
    "        host=\"localhost\",\n",
    "        port=\"5432\"\n",
    "    )\n",
    "    return conn\n",
    "\n",
    "conn = connect_to_db()\n",
    "query = \"SELECT * FROM stat_table\"\n",
    "df = pd.read_sql(query, conn)\n",
    "conn.close()\n",
    "\n",
    "df['timestamp'] = pd.to_datetime(df['timestamp'])\n",
    "\n",
    "wb = openpyxl.Workbook()\n",
    "\n",
    "for service_name, group in df.groupby('service'):\n",
    "    group.reset_index(drop=True, inplace=True)\n",
    "    ws = wb.create_sheet(title=service_name)\n",
    "    \n",
    "    for r_idx, row in enumerate(dataframe_to_rows(group, index=False, header=True), 1):\n",
    "        for c_idx, value in enumerate(row, 1):\n",
    "            ws.cell(row=r_idx, column=c_idx, value=value)\n",
    "    \n",
    "    # Line chart for Total Risk\n",
    "    chart1 = LineChart()\n",
    "    data = Reference(ws, min_col=3, min_row=1, max_col=3, max_row=len(group)+1)\n",
    "    times = Reference(ws, min_col=1, min_row=1, max_col=1, max_row=len(group)+1) # Timestamp\n",
    "    chart1.add_data(data, titles_from_data=True)\n",
    "    chart1.set_categories(times)\n",
    "    chart1.title = \"Total Risk Over Time\"\n",
    "    chart1.x_axis.title = \"Time\"\n",
    "    chart1.y_axis.title = \"Total Risk\"\n",
    "    chart1.width = 15  # width = 15 inches\n",
    "    chart1.height = 10  # height = 10 inches\n",
    "    ws.add_chart(chart1, \"A20\")\n",
    "    \n",
    "    # Line chart for CPU Usage\n",
    "    chart2 = LineChart()\n",
    "    data = Reference(ws, min_col=4, min_row=1, max_col=4, max_row=len(group)+1)\n",
    "    chart2.add_data(data, titles_from_data=True)\n",
    "    chart2.set_categories(times)\n",
    "    chart2.title = \"CPU Usage Over Time\"\n",
    "    chart2.x_axis.title = \"Time\"\n",
    "    chart2.y_axis.title = \"CPU Usage\"\n",
    "    chart2.width = 15\n",
    "    chart2.height = 10\n",
    "    ws.add_chart(chart2, \"K20\")\n",
    "    \n",
    "    # Line chart for Number of Replicas\n",
    "    chart3 = LineChart()\n",
    "    data = Reference(ws, min_col=5, min_row=1, max_col=5, max_row=len(group)+1)\n",
    "    chart3.add_data(data, titles_from_data=True)\n",
    "    chart3.set_categories(times)\n",
    "    chart3.title = \"Number of Replicas Over Time\"\n",
    "    chart3.x_axis.title = \"Time\"\n",
    "    chart3.y_axis.title = \"Number of Replicas\"\n",
    "    chart3.width = 15\n",
    "    chart3.height = 10\n",
    "    ws.add_chart(chart3, \"W20\")\n",
    "\n",
    "del wb['Sheet']\n",
    "wb.save(\"service_data.xlsx\")\n"
   ]
  },
  {
   "cell_type": "markdown",
   "metadata": {},
   "source": [
    "### Reset Tables"
   ]
  },
  {
   "cell_type": "code",
   "execution_count": 20,
   "metadata": {},
   "outputs": [
    {
     "name": "stdout",
     "output_type": "stream",
     "text": [
      "error: no objects passed to scale\n",
      "Successfully truncated actions_table.\n",
      "Successfully updated status to 'Unsolved' for all records in worker_cve_scan.\n"
     ]
    }
   ],
   "source": [
    "!kubectl scale deployment --all --replicas=1 -n google-shop\n",
    "import psycopg2\n",
    "import pandas as pd\n",
    "import time\n",
    "def connect_to_db():\n",
    "    # Modify connection parameters according to your setup\n",
    "    conn = psycopg2.connect(\n",
    "        dbname=\"mydatabase\",\n",
    "        user=\"user\",\n",
    "        password=\"password\",\n",
    "        host=\"localhost\",\n",
    "        port=\"5432\"\n",
    "    )\n",
    "    return conn\n",
    "def truncate_actions_table():\n",
    "    conn = connect_to_db()\n",
    "    try:\n",
    "        with conn.cursor() as cursor:\n",
    "            cursor.execute(\"TRUNCATE TABLE actions_table RESTART IDENTITY CASCADE;\")\n",
    "            cursor.execute(\"TRUNCATE TABLE stat_table RESTART IDENTITY CASCADE;\")\n",
    "            conn.commit()\n",
    "            print(\"Successfully truncated actions_table.\")\n",
    "    except Exception as e:\n",
    "        print(f\"An error occurred: {e}\")\n",
    "        import traceback\n",
    "        print(traceback.format_exc())\n",
    "        conn.rollback()\n",
    "    finally:\n",
    "        conn.close()\n",
    "\n",
    "# Call this function whenever you need to empty the actions_table.\n",
    "truncate_actions_table()\n",
    "def reset_worker_cve_scan_status():\n",
    "    conn = connect_to_db()\n",
    "    try:\n",
    "        with conn.cursor() as cursor:\n",
    "            cursor.execute(\"UPDATE worker_cve_scan SET status='Unsolved';\")\n",
    "            conn.commit()\n",
    "            print(\"Successfully updated status to 'Unsolved' for all records in worker_cve_scan.\")\n",
    "    except Exception as e:\n",
    "        print(f\"An error occurred: {e}\")\n",
    "        import traceback\n",
    "        print(traceback.format_exc())\n",
    "        conn.rollback()\n",
    "    finally:\n",
    "        conn.close()\n",
    "\n",
    "# Call this function whenever you need to reset the status.\n",
    "reset_worker_cve_scan_status()"
   ]
  }
 ],
 "metadata": {
  "kernelspec": {
   "display_name": "sac",
   "language": "python",
   "name": "python3"
  },
  "language_info": {
   "codemirror_mode": {
    "name": "ipython",
    "version": 3
   },
   "file_extension": ".py",
   "mimetype": "text/x-python",
   "name": "python",
   "nbconvert_exporter": "python",
   "pygments_lexer": "ipython3",
   "version": "3.11.4"
  }
 },
 "nbformat": 4,
 "nbformat_minor": 2
}
